{
 "cells": [
  {
   "cell_type": "markdown",
   "metadata": {},
   "source": [
    "<hr />"
   ]
  },
  {
   "cell_type": "markdown",
   "metadata": {},
   "source": [
    "Teaching Links:\n",
    "https://notebooks.gesis.org/binder/jupyter/user/theboilingpoint-cation-fall2023-zuo00d42/doc/tree/jupyterTutorial.ipynb \n",
    "https://docs.moodle.org/402/en/Interactive_Content_-_H5P_activity \n",
    "https://www.epfl.ch/education/educational-initiatives/jupyter-notebooks-for-education/teaching-and-learning-with-jupyter-notebooks/\n",
    "https://www.epfl.ch/education/educational-initiatives/jupyter-notebooks-for-education/teaching-and-learning-with-jupyter-notebooks/online-interactive-textbooks-with-jupyter-notebooks/ "
   ]
  },
  {
   "cell_type": "markdown",
   "metadata": {},
   "source": [
    "(examples on how to get some resources)"
   ]
  },
  {
   "cell_type": "markdown",
   "metadata": {},
   "source": [
    "### video"
   ]
  },
  {
   "cell_type": "code",
   "execution_count": null,
   "metadata": {},
   "outputs": [],
   "source": [
    "from IPython.display import YouTubeVideo\n",
    "from datetime import timedelta\n",
    "\n",
    "# It is possible to start the video at a specific time\n",
    "start=int(timedelta(hours=0, minutes=0, seconds=0).total_seconds())\n",
    "\n",
    "YouTubeVideo(\"OJy2h9mgiX8\", start=start, autoplay=0, theme=\"light\", color=\"red\")"
   ]
  },
  {
   "cell_type": "code",
   "execution_count": null,
   "metadata": {},
   "outputs": [],
   "source": [
    "from IPython.display import VimeoVideo\n",
    "\n",
    "VimeoVideo(\"12891305\")"
   ]
  },
  {
   "cell_type": "markdown",
   "metadata": {},
   "source": [
    "### website"
   ]
  },
  {
   "cell_type": "code",
   "execution_count": null,
   "metadata": {},
   "outputs": [],
   "source": [
    "from IPython.display import IFrame\n",
    "\n",
    "IFrame('https://dlab.epfl.ch/teaching/fall2019/cs401/', width=800, height=600)"
   ]
  },
  {
   "cell_type": "markdown",
   "metadata": {},
   "source": [
    "### audio"
   ]
  },
  {
   "cell_type": "code",
   "execution_count": null,
   "metadata": {},
   "outputs": [],
   "source": [
    "from scipy.io import loadmat, wavfile\n",
    "from IPython.lib.display import Audio\n",
    "\n",
    "# import the speech from a wav file\n",
    "r,speech = wavfile.read('Data/german_speech_44100.wav')\n",
    "_,rir = wavfile.read('Data/RIRs.wav')\n",
    "\n",
    "# Add the audio widget\n",
    "print('Speech')\n",
    "display(Audio(data=speech, rate=r))\n",
    "print('Room Impulse Response')\n",
    "display(Audio(data=rir[:,0], rate=r))"
   ]
  },
  {
   "cell_type": "code",
   "execution_count": null,
   "metadata": {},
   "outputs": [],
   "source": [
    "import IPython\n",
    "IPython.display.Audio(\"./Data/lrocuted.wav\")"
   ]
  },
  {
   "cell_type": "markdown",
   "metadata": {},
   "source": [
    "### image"
   ]
  },
  {
   "cell_type": "code",
   "execution_count": null,
   "metadata": {},
   "outputs": [],
   "source": [
    "from IPython.display import Image\n",
    "# Photos credit: https://commons.wikimedia.org/wiki/File:Rolex_Learning_center.jpg\n",
    "Image('./Data/rlc.jpg', width=800,height=600)"
   ]
  },
  {
   "cell_type": "code",
   "execution_count": 23,
   "metadata": {},
   "outputs": [
    {
     "data": {
      "text/html": [
       "\n",
       "<div style=\"display: flex;\">\n",
       "  <div style=\"flex: 20%; margin-right: 10px; margin-left: 70px;\">\n",
       "    <img src=\"HeartPulseAnimation.gif\" alt=\"Heart Pulse Animation\" style=\"width:80%\">\n",
       "  </div>\n",
       "  <div style=\"flex: 20%; margin-left: 10px;\">\n",
       "    <img src=\"Walk.gif\" alt=\"Walk Animation\" style=\"width:80%\">\n",
       "  </div>\n",
       "</div>\n"
      ],
      "text/plain": [
       "<IPython.core.display.HTML object>"
      ]
     },
     "metadata": {},
     "output_type": "display_data"
    }
   ],
   "source": [
    "from IPython.display import HTML, display\n",
    "\n",
    "html_content = \"\"\"\n",
    "<div style=\"display: flex;\">\n",
    "  <div style=\"flex: 20%; margin-right: 10px; margin-left: 70px;\">\n",
    "    <img src=\"HeartPulseAnimation.gif\" alt=\"Heart Pulse Animation\" style=\"width:80%\">\n",
    "  </div>\n",
    "  <div style=\"flex: 20%; margin-left: 10px;\">\n",
    "    <img src=\"Walk.gif\" alt=\"Walk Animation\" style=\"width:80%\">\n",
    "  </div>\n",
    "</div>\n",
    "\"\"\"\n",
    "\n",
    "display(HTML(html_content))\n"
   ]
  },
  {
   "cell_type": "code",
   "execution_count": null,
   "metadata": {},
   "outputs": [],
   "source": [
    "\n"
   ]
  },
  {
   "cell_type": "markdown",
   "metadata": {},
   "source": [
    "<video width=\"320\" height=\"240\" controls>\n",
    "  <source src=\"heart_beating.mp4\" type=\"video/mp4\">\n",
    "  Your browser does not support the video tag.\n",
    "</video>\n"
   ]
  },
  {
   "cell_type": "code",
   "execution_count": null,
   "metadata": {},
   "outputs": [],
   "source": [
    "with open('Walk.gif','rb') as file:\n",
    "    display(Image(file.read(), format='gif'))"
   ]
  },
  {
   "cell_type": "code",
   "execution_count": null,
   "metadata": {},
   "outputs": [],
   "source": [
    "from IPython.display import display, Image\n",
    "\n",
    "with open('HeartPulseAnimation.gif','rb') as file:\n",
    "    display(Image(file.read(), format='gif'))"
   ]
  },
  {
   "cell_type": "code",
   "execution_count": null,
   "metadata": {},
   "outputs": [],
   "source": [
    "from IPython.display import IFrame\n",
    "\n",
    "IFrame('https://stonekick.com/metronome.html', width=1000, height=700)"
   ]
  },
  {
   "cell_type": "code",
   "execution_count": null,
   "metadata": {},
   "outputs": [],
   "source": [
    "from IPython.display import IFrame\n",
    "\n",
    "IFrame('https://metronome-online.com/', width=1000, height=700)"
   ]
  },
  {
   "cell_type": "markdown",
   "metadata": {},
   "source": [
    "<iframe src=\"https://guitarapp.com/metronome.html?embed=true&tempo=120&timeSignature=2&pattern=1\" title=\"Online Metronome\" style=\"width: 360px; height:520px; border-style: none; border-radius: 4px;\"> </iframe>"
   ]
  },
  {
   "cell_type": "code",
   "execution_count": null,
   "metadata": {},
   "outputs": [],
   "source": [
    "from IPython.display import IFrame\n",
    "\n",
    "IFrame('https://guitarapp.com/metronome.html?tempo=120&timeSignature=2&pattern=1', width=1000, height=700)"
   ]
  },
  {
   "cell_type": "code",
   "execution_count": null,
   "metadata": {},
   "outputs": [],
   "source": [
    "from IPython.display import Image\n",
    "# Photos credit: https://commons.wikimedia.org/wiki/File:Rolex_Learning_center.jpg\n",
    "Image('Love Runs Out.png', width=1000,height=600)"
   ]
  },
  {
   "cell_type": "code",
   "execution_count": 3,
   "metadata": {},
   "outputs": [
    {
     "data": {
      "text/plain": [
       "' \\ndependencias -> yamel file\\nel audio no me va ni pa atrás\\nlos márgenes dependen de la dimensión de la pantalla\\nel binder se bloquea o no se actualiza cuando cambio el git y no sé si para acceder a él solo com el link sirve\\n'"
      ]
     },
     "execution_count": 3,
     "metadata": {},
     "output_type": "execute_result"
    }
   ],
   "source": [
    "# problemas\n",
    "''' \n",
    "dependencias -> yamel file\n",
    "el audio no me va ni pa atrás\n",
    "los márgenes dependen de la dimensión de la pantalla\n",
    "el binder se bloquea o no se actualiza cuando cambio el git y no sé si para acceder a él solo com el link sirve\n",
    "ver qué hago con las imágenes de The Tempo\n",
    "'''"
   ]
  },
  {
   "cell_type": "code",
   "execution_count": null,
   "metadata": {},
   "outputs": [],
   "source": [
    "https://www.google.com/search?q=metronome+online&sca_esv=579969189&sxsrf=AM9HkKkUj2bnvT3_Redwt7IXVtAceiQEMQ%3A1699316077505&ei=bYFJZYeqHoaki-gPl5O54Ag&ved=0ahUKEwjHlKTZzbCCAxUG0gIHHZdJDowQ4dUDCBA&uact=5&oq=metronome+online&gs_lp=Egxnd3Mtd2l6LXNlcnAiEG1ldHJvbm9tZSBvbmxpbmUyCBAuGMsBGIAEMggQABjLARiABDIIEAAYywEYgAQyCBAAGMsBGIAEMggQABjLARiABDIIEAAYywEYgAQyCBAAGMsBGIAEMggQABjLARiABDIIEAAYywEYgAQyCBAAGMsBGIAEMhcQLhjLARiABBiXBRjcBBjeBBjgBNgBAUiAElAAWJMRcAB4AZABAJgBhQGgAYALqgEEMTEuNLgBA8gBAPgBAcICBxAjGIoFGCfCAgQQIxgnwgIFEAAYgATCAgUQLhiABMICCxAuGIAEGMcBGNEDwgILEC4YgAQYxwEYrwHCAggQABiABBjJA8ICBxAAGIoFGEPCAg4QLhjLARiABBjHARivAcICERAuGMsBGIAEGMcBGK8BGI4FwgIMECMYigUYExiABBgn4gMEGAAgQYgGAboGBggBEAEYFA&sclient=gws-wiz-serp"
   ]
  }
 ],
 "metadata": {
  "kernelspec": {
   "display_name": "ada",
   "language": "python",
   "name": "python3"
  },
  "language_info": {
   "codemirror_mode": {
    "name": "ipython",
    "version": 3
   },
   "file_extension": ".py",
   "mimetype": "text/x-python",
   "name": "python",
   "nbconvert_exporter": "python",
   "pygments_lexer": "ipython3",
   "version": "3.9.18"
  }
 },
 "nbformat": 4,
 "nbformat_minor": 2
}

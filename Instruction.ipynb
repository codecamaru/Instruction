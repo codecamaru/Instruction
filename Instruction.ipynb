{
 "cells": [
  {
   "cell_type": "markdown",
   "metadata": {},
   "source": [
    "# ✨🎶 Rythm and Musical Notation ✨🎶"
   ]
  },
  {
   "cell_type": "markdown",
   "metadata": {},
   "source": [
    "<hr />"
   ]
  },
  {
   "cell_type": "markdown",
   "metadata": {},
   "source": [
    "##### Welcome to our lesson! #####\n",
    "\n",
    "##### Today you will learn the basic knowledge about rhythm and musical notation. #####\n",
    "\n",
    "##### Through this notebook, we will gradually teach you the most important concepts. #####\n",
    "##### We will guide you step by step and give you the opportunity to interact freely with the elements we provide. #####\n",
    "\n",
    "##### Let's start learning! #####"
   ]
  },
  {
   "cell_type": "markdown",
   "metadata": {},
   "source": [
    "<hr />"
   ]
  },
  {
   "cell_type": "markdown",
   "metadata": {},
   "source": [
    "### The Pulse"
   ]
  },
  {
   "cell_type": "markdown",
   "metadata": {},
   "source": [
    "In order to make rhythm work, musicians need a common and constant reference. \n",
    "\n",
    "Imagine you want to walk with someone in a parade and you both need to go at the same speed and move your legs at the same time so that it looks synchronised. You would need to reach a consensus with your partner to do it at the same time.\n",
    "\n",
    "If you both could listen to one's heart beat, you could both walk at each pulsation. This would define your path. \n",
    "\n",
    "Same thing happens with music! We need to reach a consensus about the pulse. "
   ]
  },
  {
   "cell_type": "markdown",
   "metadata": {},
   "source": [
    "<div style=\"display: flex;\">\n",
    "  <div style=\"flex: 20%; margin-right: 10px; margin-left: 70px;\">\n",
    "    <img src=\"HeartPulseAnimation.gif\" alt=\"Heart Pulse Animation\" style=\"width:80%\">\n",
    "  </div>\n",
    "  <div style=\"flex: 20%; margin-left: 10px;\">\n",
    "    <img src=\"Walk.gif\" alt=\"Walk Animation\" style=\"width:80%\">\n",
    "  </div>\n",
    "</div>"
   ]
  },
  {
   "cell_type": "markdown",
   "metadata": {},
   "source": [
    "### The Beat"
   ]
  },
  {
   "cell_type": "markdown",
   "metadata": {},
   "source": []
  },
  {
   "cell_type": "code",
   "execution_count": null,
   "metadata": {},
   "outputs": [],
   "source": [
    "from IPython.display import IFrame\n",
    "\n",
    "IFrame('https://stonekick.com/metronome.html', width=1000, height=700)"
   ]
  },
  {
   "cell_type": "markdown",
   "metadata": {},
   "source": []
  },
  {
   "cell_type": "code",
   "execution_count": null,
   "metadata": {},
   "outputs": [],
   "source": [
    "https://www.google.com/search?q=metronome+online&sca_esv=579969189&sxsrf=AM9HkKkUj2bnvT3_Redwt7IXVtAceiQEMQ%3A1699316077505&ei=bYFJZYeqHoaki-gPl5O54Ag&ved=0ahUKEwjHlKTZzbCCAxUG0gIHHZdJDowQ4dUDCBA&uact=5&oq=metronome+online&gs_lp=Egxnd3Mtd2l6LXNlcnAiEG1ldHJvbm9tZSBvbmxpbmUyCBAuGMsBGIAEMggQABjLARiABDIIEAAYywEYgAQyCBAAGMsBGIAEMggQABjLARiABDIIEAAYywEYgAQyCBAAGMsBGIAEMggQABjLARiABDIIEAAYywEYgAQyCBAAGMsBGIAEMhcQLhjLARiABBiXBRjcBBjeBBjgBNgBAUiAElAAWJMRcAB4AZABAJgBhQGgAYALqgEEMTEuNLgBA8gBAPgBAcICBxAjGIoFGCfCAgQQIxgnwgIFEAAYgATCAgUQLhiABMICCxAuGIAEGMcBGNEDwgILEC4YgAQYxwEYrwHCAggQABiABBjJA8ICBxAAGIoFGEPCAg4QLhjLARiABBjHARivAcICERAuGMsBGIAEGMcBGK8BGI4FwgIMECMYigUYExiABBgn4gMEGAAgQYgGAboGBggBEAEYFA&sclient=gws-wiz-serp"
   ]
  },
  {
   "cell_type": "code",
   "execution_count": null,
   "metadata": {},
   "outputs": [],
   "source": [
    "from IPython.display import IFrame\n",
    "\n",
    "IFrame('https://metronome-online.com/', width=1000, height=700)"
   ]
  },
  {
   "cell_type": "code",
   "execution_count": null,
   "metadata": {},
   "outputs": [],
   "source": [
    "from IPython.display import IFrame\n",
    "\n",
    "IFrame('https://guitarapp.com/metronome.html?tempo=120&timeSignature=2&pattern=1', width=1000, height=700)"
   ]
  },
  {
   "cell_type": "markdown",
   "metadata": {},
   "source": [
    "(Theory) -> Associate it with a speed that you will use to meassure your piece and give you the time unit\n",
    "(Animation) -> A moving metronome that allows you to change the speed (students can change it and get a general idea of pulse + speed)"
   ]
  },
  {
   "cell_type": "markdown",
   "metadata": {},
   "source": [
    "<iframe src=\"https://guitarapp.com/metronome.html?embed=true&tempo=120&timeSignature=2&pattern=1\" title=\"Online Metronome\" style=\"width: 360px; height:520px; border-style: none; border-radius: 4px;\"> </iframe>"
   ]
  },
  {
   "cell_type": "markdown",
   "metadata": {},
   "source": [
    "<iframe src=\"https://guitarapp.com/metronome.html?embed=true&tempo=120&timeSignature=2&pattern=1&theme=light\" title=\"Online Metronome\" style=\"width: 360px; height:520px; border-style: none; border-radius: 4px;\"> </iframe>"
   ]
  },
  {
   "cell_type": "markdown",
   "metadata": {},
   "source": [
    "### The Tempo"
   ]
  },
  {
   "cell_type": "markdown",
   "metadata": {},
   "source": [
    "<hr />"
   ]
  },
  {
   "cell_type": "markdown",
   "metadata": {},
   "source": []
  },
  {
   "cell_type": "markdown",
   "metadata": {},
   "source": [
    "## Figures"
   ]
  },
  {
   "cell_type": "markdown",
   "metadata": {},
   "source": [
    "(Theory) -> use the time unit to explain its division in each figure (mathematically)\n",
    "(Visual) -> explain this while showing the figures -> an image with name and notation of eah figure and its subdivision\n",
    "(Animation) -> put an image of each figure and an audio that (when hitted play) reproduces the sound of that figure with smt like a light highlighting the beat (sounding at the same time)"
   ]
  },
  {
   "cell_type": "markdown",
   "metadata": {},
   "source": [
    "#### Weight"
   ]
  },
  {
   "cell_type": "markdown",
   "metadata": {},
   "source": [
    "(Theory) -> slightly explain that figures have weights and that helps musical flow and rythm articulation -> time signature\n",
    "(Visual) -> a pyramid of weights (semibreve on the top, then breve...)\n",
    "Connect this with the time signature"
   ]
  },
  {
   "cell_type": "markdown",
   "metadata": {},
   "source": [
    "<hr />"
   ]
  },
  {
   "cell_type": "markdown",
   "metadata": {},
   "source": [
    "## Time signature"
   ]
  },
  {
   "cell_type": "markdown",
   "metadata": {},
   "source": [
    "(Theory) -> upper number indicates number of beats, lower number indicates the time unit\n",
    "Just explain easy time signatures (to not make lecture long and bc its for begginers)\n",
    "usar induction para decir cómo se reparte el peso en el compás según lo explicado en apartado anterior\n",
    "relacionarlo con el meter"
   ]
  },
  {
   "cell_type": "markdown",
   "metadata": {},
   "source": [
    "<hr />"
   ]
  },
  {
   "cell_type": "markdown",
   "metadata": {},
   "source": [
    "(examples)"
   ]
  },
  {
   "cell_type": "markdown",
   "metadata": {},
   "source": [
    "### Love Runs Out - One Republic"
   ]
  },
  {
   "cell_type": "code",
   "execution_count": null,
   "metadata": {},
   "outputs": [],
   "source": []
  },
  {
   "cell_type": "code",
   "execution_count": 24,
   "metadata": {},
   "outputs": [
    {
     "data": {
      "image/png": "[encoded data removed]",
      "text/plain": [
       "<IPython.core.display.Image object>"
      ]
     },
     "execution_count": 24,
     "metadata": {
      "image/png": {
       "height": 600,
       "width": 1000
      }
     },
     "output_type": "execute_result"
    }
   ],
   "source": [
    "from IPython.display import Image\n",
    "# Photos credit: https://commons.wikimedia.org/wiki/File:Rolex_Learning_center.jpg\n",
    "Image('Love Runs Out.png', width=1000,height=600)"
   ]
  },
  {
   "cell_type": "code",
   "execution_count": 31,
   "metadata": {},
   "outputs": [
    {
     "name": "stdout",
     "output_type": "stream",
     "text": [
      "Speech\n"
     ]
    },
    {
     "ename": "error",
     "evalue": "ushort format requires 0 <= number <= (32767 *2 +1)",
     "output_type": "error",
     "traceback": [
      "\u001b[0;31m---------------------------------------------------------------------------\u001b[0m",
      "\u001b[0;31merror\u001b[0m                                     Traceback (most recent call last)",
      "\u001b[1;32m/Users/carolinaalbamaruganrubio/ApuntesCARRERA/5º/Digital Education/Instruction/Instruction.ipynb Cell 33\u001b[0m line \u001b[0;36m1\n\u001b[1;32m      <a href='vscode-notebook-cell:/Users/carolinaalbamaruganrubio/ApuntesCARRERA/5%C2%BA/Digital%20Education/Instruction/Instruction.ipynb#X45sZmlsZQ%3D%3D?line=7'>8</a>\u001b[0m \u001b[39m# Add the audio widget\u001b[39;00m\n\u001b[1;32m      <a href='vscode-notebook-cell:/Users/carolinaalbamaruganrubio/ApuntesCARRERA/5%C2%BA/Digital%20Education/Instruction/Instruction.ipynb#X45sZmlsZQ%3D%3D?line=8'>9</a>\u001b[0m \u001b[39mprint\u001b[39m(\u001b[39m'\u001b[39m\u001b[39mSpeech\u001b[39m\u001b[39m'\u001b[39m)\n\u001b[0;32m---> <a href='vscode-notebook-cell:/Users/carolinaalbamaruganrubio/ApuntesCARRERA/5%C2%BA/Digital%20Education/Instruction/Instruction.ipynb#X45sZmlsZQ%3D%3D?line=9'>10</a>\u001b[0m display(Audio(data\u001b[39m=\u001b[39;49mspeech, rate\u001b[39m=\u001b[39;49mr))\n\u001b[1;32m     <a href='vscode-notebook-cell:/Users/carolinaalbamaruganrubio/ApuntesCARRERA/5%C2%BA/Digital%20Education/Instruction/Instruction.ipynb#X45sZmlsZQ%3D%3D?line=10'>11</a>\u001b[0m \u001b[39mprint\u001b[39m(\u001b[39m'\u001b[39m\u001b[39mRoom Impulse Response\u001b[39m\u001b[39m'\u001b[39m)\n\u001b[1;32m     <a href='vscode-notebook-cell:/Users/carolinaalbamaruganrubio/ApuntesCARRERA/5%C2%BA/Digital%20Education/Instruction/Instruction.ipynb#X45sZmlsZQ%3D%3D?line=11'>12</a>\u001b[0m display(Audio(data\u001b[39m=\u001b[39mrir[:,\u001b[39m0\u001b[39m], rate\u001b[39m=\u001b[39mr))\n",
      "File \u001b[0;32m~/anaconda3/envs/ada/lib/python3.9/site-packages/IPython/lib/display.py:130\u001b[0m, in \u001b[0;36mAudio.__init__\u001b[0;34m(self, data, filename, url, embed, rate, autoplay, normalize, element_id)\u001b[0m\n\u001b[1;32m    128\u001b[0m \u001b[39mif\u001b[39;00m rate \u001b[39mis\u001b[39;00m \u001b[39mNone\u001b[39;00m:\n\u001b[1;32m    129\u001b[0m     \u001b[39mraise\u001b[39;00m \u001b[39mValueError\u001b[39;00m(\u001b[39m\"\u001b[39m\u001b[39mrate must be specified when data is a numpy array or list of audio samples.\u001b[39m\u001b[39m\"\u001b[39m)\n\u001b[0;32m--> 130\u001b[0m \u001b[39mself\u001b[39m\u001b[39m.\u001b[39mdata \u001b[39m=\u001b[39m Audio\u001b[39m.\u001b[39;49m_make_wav(data, rate, normalize)\n",
      "File \u001b[0;32m~/anaconda3/envs/ada/lib/python3.9/site-packages/IPython/lib/display.py:162\u001b[0m, in \u001b[0;36mAudio._make_wav\u001b[0;34m(data, rate, normalize)\u001b[0m\n\u001b[1;32m    160\u001b[0m waveobj\u001b[39m.\u001b[39msetsampwidth(\u001b[39m2\u001b[39m)\n\u001b[1;32m    161\u001b[0m waveobj\u001b[39m.\u001b[39msetcomptype(\u001b[39m'\u001b[39m\u001b[39mNONE\u001b[39m\u001b[39m'\u001b[39m,\u001b[39m'\u001b[39m\u001b[39mNONE\u001b[39m\u001b[39m'\u001b[39m)\n\u001b[0;32m--> 162\u001b[0m waveobj\u001b[39m.\u001b[39;49mwriteframes(scaled)\n\u001b[1;32m    163\u001b[0m val \u001b[39m=\u001b[39m fp\u001b[39m.\u001b[39mgetvalue()\n\u001b[1;32m    164\u001b[0m waveobj\u001b[39m.\u001b[39mclose()\n",
      "File \u001b[0;32m~/anaconda3/envs/ada/lib/python3.9/wave.py:437\u001b[0m, in \u001b[0;36mWave_write.writeframes\u001b[0;34m(self, data)\u001b[0m\n\u001b[1;32m    436\u001b[0m \u001b[39mdef\u001b[39;00m \u001b[39mwriteframes\u001b[39m(\u001b[39mself\u001b[39m, data):\n\u001b[0;32m--> 437\u001b[0m     \u001b[39mself\u001b[39;49m\u001b[39m.\u001b[39;49mwriteframesraw(data)\n\u001b[1;32m    438\u001b[0m     \u001b[39mif\u001b[39;00m \u001b[39mself\u001b[39m\u001b[39m.\u001b[39m_datalength \u001b[39m!=\u001b[39m \u001b[39mself\u001b[39m\u001b[39m.\u001b[39m_datawritten:\n\u001b[1;32m    439\u001b[0m         \u001b[39mself\u001b[39m\u001b[39m.\u001b[39m_patchheader()\n",
      "File \u001b[0;32m~/anaconda3/envs/ada/lib/python3.9/wave.py:426\u001b[0m, in \u001b[0;36mWave_write.writeframesraw\u001b[0;34m(self, data)\u001b[0m\n\u001b[1;32m    424\u001b[0m \u001b[39mif\u001b[39;00m \u001b[39mnot\u001b[39;00m \u001b[39misinstance\u001b[39m(data, (\u001b[39mbytes\u001b[39m, \u001b[39mbytearray\u001b[39m)):\n\u001b[1;32m    425\u001b[0m     data \u001b[39m=\u001b[39m \u001b[39mmemoryview\u001b[39m(data)\u001b[39m.\u001b[39mcast(\u001b[39m'\u001b[39m\u001b[39mB\u001b[39m\u001b[39m'\u001b[39m)\n\u001b[0;32m--> 426\u001b[0m \u001b[39mself\u001b[39;49m\u001b[39m.\u001b[39;49m_ensure_header_written(\u001b[39mlen\u001b[39;49m(data))\n\u001b[1;32m    427\u001b[0m nframes \u001b[39m=\u001b[39m \u001b[39mlen\u001b[39m(data) \u001b[39m/\u001b[39m\u001b[39m/\u001b[39m (\u001b[39mself\u001b[39m\u001b[39m.\u001b[39m_sampwidth \u001b[39m*\u001b[39m \u001b[39mself\u001b[39m\u001b[39m.\u001b[39m_nchannels)\n\u001b[1;32m    428\u001b[0m \u001b[39mif\u001b[39;00m \u001b[39mself\u001b[39m\u001b[39m.\u001b[39m_convert:\n",
      "File \u001b[0;32m~/anaconda3/envs/ada/lib/python3.9/wave.py:467\u001b[0m, in \u001b[0;36mWave_write._ensure_header_written\u001b[0;34m(self, datasize)\u001b[0m\n\u001b[1;32m    465\u001b[0m \u001b[39mif\u001b[39;00m \u001b[39mnot\u001b[39;00m \u001b[39mself\u001b[39m\u001b[39m.\u001b[39m_framerate:\n\u001b[1;32m    466\u001b[0m     \u001b[39mraise\u001b[39;00m Error(\u001b[39m'\u001b[39m\u001b[39msampling rate not specified\u001b[39m\u001b[39m'\u001b[39m)\n\u001b[0;32m--> 467\u001b[0m \u001b[39mself\u001b[39;49m\u001b[39m.\u001b[39;49m_write_header(datasize)\n",
      "File \u001b[0;32m~/anaconda3/envs/ada/lib/python3.9/wave.py:479\u001b[0m, in \u001b[0;36mWave_write._write_header\u001b[0;34m(self, initlength)\u001b[0m\n\u001b[1;32m    477\u001b[0m \u001b[39mexcept\u001b[39;00m (\u001b[39mAttributeError\u001b[39;00m, \u001b[39mOSError\u001b[39;00m):\n\u001b[1;32m    478\u001b[0m     \u001b[39mself\u001b[39m\u001b[39m.\u001b[39m_form_length_pos \u001b[39m=\u001b[39m \u001b[39mNone\u001b[39;00m\n\u001b[0;32m--> 479\u001b[0m \u001b[39mself\u001b[39m\u001b[39m.\u001b[39m_file\u001b[39m.\u001b[39mwrite(struct\u001b[39m.\u001b[39;49mpack(\u001b[39m'\u001b[39;49m\u001b[39m<L4s4sLHHLLHH4s\u001b[39;49m\u001b[39m'\u001b[39;49m,\n\u001b[1;32m    480\u001b[0m     \u001b[39m36\u001b[39;49m \u001b[39m+\u001b[39;49m \u001b[39mself\u001b[39;49m\u001b[39m.\u001b[39;49m_datalength, \u001b[39mb\u001b[39;49m\u001b[39m'\u001b[39;49m\u001b[39mWAVE\u001b[39;49m\u001b[39m'\u001b[39;49m, \u001b[39mb\u001b[39;49m\u001b[39m'\u001b[39;49m\u001b[39mfmt \u001b[39;49m\u001b[39m'\u001b[39;49m, \u001b[39m16\u001b[39;49m,\n\u001b[1;32m    481\u001b[0m     WAVE_FORMAT_PCM, \u001b[39mself\u001b[39;49m\u001b[39m.\u001b[39;49m_nchannels, \u001b[39mself\u001b[39;49m\u001b[39m.\u001b[39;49m_framerate,\n\u001b[1;32m    482\u001b[0m     \u001b[39mself\u001b[39;49m\u001b[39m.\u001b[39;49m_nchannels \u001b[39m*\u001b[39;49m \u001b[39mself\u001b[39;49m\u001b[39m.\u001b[39;49m_framerate \u001b[39m*\u001b[39;49m \u001b[39mself\u001b[39;49m\u001b[39m.\u001b[39;49m_sampwidth,\n\u001b[1;32m    483\u001b[0m     \u001b[39mself\u001b[39;49m\u001b[39m.\u001b[39;49m_nchannels \u001b[39m*\u001b[39;49m \u001b[39mself\u001b[39;49m\u001b[39m.\u001b[39;49m_sampwidth,\n\u001b[1;32m    484\u001b[0m     \u001b[39mself\u001b[39;49m\u001b[39m.\u001b[39;49m_sampwidth \u001b[39m*\u001b[39;49m \u001b[39m8\u001b[39;49m, \u001b[39mb\u001b[39;49m\u001b[39m'\u001b[39;49m\u001b[39mdata\u001b[39;49m\u001b[39m'\u001b[39;49m))\n\u001b[1;32m    485\u001b[0m \u001b[39mif\u001b[39;00m \u001b[39mself\u001b[39m\u001b[39m.\u001b[39m_form_length_pos \u001b[39mis\u001b[39;00m \u001b[39mnot\u001b[39;00m \u001b[39mNone\u001b[39;00m:\n\u001b[1;32m    486\u001b[0m     \u001b[39mself\u001b[39m\u001b[39m.\u001b[39m_data_length_pos \u001b[39m=\u001b[39m \u001b[39mself\u001b[39m\u001b[39m.\u001b[39m_file\u001b[39m.\u001b[39mtell()\n",
      "\u001b[0;31merror\u001b[0m: ushort format requires 0 <= number <= (32767 *2 +1)"
     ]
    }
   ],
   "source": [
    "from scipy.io import loadmat, wavfile\n",
    "from IPython.lib.display import Audio\n",
    "\n",
    "# import the speech from a wav file\n",
    "r,speech = wavfile.read('Data/LRO.wav')\n",
    "_,rir = wavfile.read('Data/LRO.wav')\n",
    "\n",
    "# Add the audio widget\n",
    "print('Speech')\n",
    "display(Audio(data=speech, rate=r))\n",
    "print('Room Impulse Response')\n",
    "display(Audio(data=rir[:,0], rate=r))"
   ]
  },
  {
   "cell_type": "code",
   "execution_count": 30,
   "metadata": {},
   "outputs": [
    {
     "name": "stdout",
     "output_type": "stream",
     "text": [
      "Speech\n"
     ]
    },
    {
     "ename": "error",
     "evalue": "ushort format requires 0 <= number <= (32767 *2 +1)",
     "output_type": "error",
     "traceback": [
      "\u001b[0;31m---------------------------------------------------------------------------\u001b[0m",
      "\u001b[0;31merror\u001b[0m                                     Traceback (most recent call last)",
      "\u001b[1;32m/Users/carolinaalbamaruganrubio/ApuntesCARRERA/5º/Digital Education/Instruction/Instruction.ipynb Cell 34\u001b[0m line \u001b[0;36m1\n\u001b[1;32m     <a href='vscode-notebook-cell:/Users/carolinaalbamaruganrubio/ApuntesCARRERA/5%C2%BA/Digital%20Education/Instruction/Instruction.ipynb#Y111sZmlsZQ%3D%3D?line=11'>12</a>\u001b[0m \u001b[39m# Add the audio widget\u001b[39;00m\n\u001b[1;32m     <a href='vscode-notebook-cell:/Users/carolinaalbamaruganrubio/ApuntesCARRERA/5%C2%BA/Digital%20Education/Instruction/Instruction.ipynb#Y111sZmlsZQ%3D%3D?line=12'>13</a>\u001b[0m \u001b[39mprint\u001b[39m(\u001b[39m'\u001b[39m\u001b[39mSpeech\u001b[39m\u001b[39m'\u001b[39m)\n\u001b[0;32m---> <a href='vscode-notebook-cell:/Users/carolinaalbamaruganrubio/ApuntesCARRERA/5%C2%BA/Digital%20Education/Instruction/Instruction.ipynb#Y111sZmlsZQ%3D%3D?line=13'>14</a>\u001b[0m display(Audio(data\u001b[39m=\u001b[39;49mnormalized_speech, rate\u001b[39m=\u001b[39;49mr))\n\u001b[1;32m     <a href='vscode-notebook-cell:/Users/carolinaalbamaruganrubio/ApuntesCARRERA/5%C2%BA/Digital%20Education/Instruction/Instruction.ipynb#Y111sZmlsZQ%3D%3D?line=14'>15</a>\u001b[0m \u001b[39mprint\u001b[39m(\u001b[39m'\u001b[39m\u001b[39mRoom Impulse Response\u001b[39m\u001b[39m'\u001b[39m)\n\u001b[1;32m     <a href='vscode-notebook-cell:/Users/carolinaalbamaruganrubio/ApuntesCARRERA/5%C2%BA/Digital%20Education/Instruction/Instruction.ipynb#Y111sZmlsZQ%3D%3D?line=15'>16</a>\u001b[0m display(Audio(data\u001b[39m=\u001b[39mrir[:, \u001b[39m0\u001b[39m], rate\u001b[39m=\u001b[39mr))\n",
      "File \u001b[0;32m~/anaconda3/envs/ada/lib/python3.9/site-packages/IPython/lib/display.py:130\u001b[0m, in \u001b[0;36mAudio.__init__\u001b[0;34m(self, data, filename, url, embed, rate, autoplay, normalize, element_id)\u001b[0m\n\u001b[1;32m    128\u001b[0m \u001b[39mif\u001b[39;00m rate \u001b[39mis\u001b[39;00m \u001b[39mNone\u001b[39;00m:\n\u001b[1;32m    129\u001b[0m     \u001b[39mraise\u001b[39;00m \u001b[39mValueError\u001b[39;00m(\u001b[39m\"\u001b[39m\u001b[39mrate must be specified when data is a numpy array or list of audio samples.\u001b[39m\u001b[39m\"\u001b[39m)\n\u001b[0;32m--> 130\u001b[0m \u001b[39mself\u001b[39m\u001b[39m.\u001b[39mdata \u001b[39m=\u001b[39m Audio\u001b[39m.\u001b[39;49m_make_wav(data, rate, normalize)\n",
      "File \u001b[0;32m~/anaconda3/envs/ada/lib/python3.9/site-packages/IPython/lib/display.py:162\u001b[0m, in \u001b[0;36mAudio._make_wav\u001b[0;34m(data, rate, normalize)\u001b[0m\n\u001b[1;32m    160\u001b[0m waveobj\u001b[39m.\u001b[39msetsampwidth(\u001b[39m2\u001b[39m)\n\u001b[1;32m    161\u001b[0m waveobj\u001b[39m.\u001b[39msetcomptype(\u001b[39m'\u001b[39m\u001b[39mNONE\u001b[39m\u001b[39m'\u001b[39m,\u001b[39m'\u001b[39m\u001b[39mNONE\u001b[39m\u001b[39m'\u001b[39m)\n\u001b[0;32m--> 162\u001b[0m waveobj\u001b[39m.\u001b[39;49mwriteframes(scaled)\n\u001b[1;32m    163\u001b[0m val \u001b[39m=\u001b[39m fp\u001b[39m.\u001b[39mgetvalue()\n\u001b[1;32m    164\u001b[0m waveobj\u001b[39m.\u001b[39mclose()\n",
      "File \u001b[0;32m~/anaconda3/envs/ada/lib/python3.9/wave.py:437\u001b[0m, in \u001b[0;36mWave_write.writeframes\u001b[0;34m(self, data)\u001b[0m\n\u001b[1;32m    436\u001b[0m \u001b[39mdef\u001b[39;00m \u001b[39mwriteframes\u001b[39m(\u001b[39mself\u001b[39m, data):\n\u001b[0;32m--> 437\u001b[0m     \u001b[39mself\u001b[39;49m\u001b[39m.\u001b[39;49mwriteframesraw(data)\n\u001b[1;32m    438\u001b[0m     \u001b[39mif\u001b[39;00m \u001b[39mself\u001b[39m\u001b[39m.\u001b[39m_datalength \u001b[39m!=\u001b[39m \u001b[39mself\u001b[39m\u001b[39m.\u001b[39m_datawritten:\n\u001b[1;32m    439\u001b[0m         \u001b[39mself\u001b[39m\u001b[39m.\u001b[39m_patchheader()\n",
      "File \u001b[0;32m~/anaconda3/envs/ada/lib/python3.9/wave.py:426\u001b[0m, in \u001b[0;36mWave_write.writeframesraw\u001b[0;34m(self, data)\u001b[0m\n\u001b[1;32m    424\u001b[0m \u001b[39mif\u001b[39;00m \u001b[39mnot\u001b[39;00m \u001b[39misinstance\u001b[39m(data, (\u001b[39mbytes\u001b[39m, \u001b[39mbytearray\u001b[39m)):\n\u001b[1;32m    425\u001b[0m     data \u001b[39m=\u001b[39m \u001b[39mmemoryview\u001b[39m(data)\u001b[39m.\u001b[39mcast(\u001b[39m'\u001b[39m\u001b[39mB\u001b[39m\u001b[39m'\u001b[39m)\n\u001b[0;32m--> 426\u001b[0m \u001b[39mself\u001b[39;49m\u001b[39m.\u001b[39;49m_ensure_header_written(\u001b[39mlen\u001b[39;49m(data))\n\u001b[1;32m    427\u001b[0m nframes \u001b[39m=\u001b[39m \u001b[39mlen\u001b[39m(data) \u001b[39m/\u001b[39m\u001b[39m/\u001b[39m (\u001b[39mself\u001b[39m\u001b[39m.\u001b[39m_sampwidth \u001b[39m*\u001b[39m \u001b[39mself\u001b[39m\u001b[39m.\u001b[39m_nchannels)\n\u001b[1;32m    428\u001b[0m \u001b[39mif\u001b[39;00m \u001b[39mself\u001b[39m\u001b[39m.\u001b[39m_convert:\n",
      "File \u001b[0;32m~/anaconda3/envs/ada/lib/python3.9/wave.py:467\u001b[0m, in \u001b[0;36mWave_write._ensure_header_written\u001b[0;34m(self, datasize)\u001b[0m\n\u001b[1;32m    465\u001b[0m \u001b[39mif\u001b[39;00m \u001b[39mnot\u001b[39;00m \u001b[39mself\u001b[39m\u001b[39m.\u001b[39m_framerate:\n\u001b[1;32m    466\u001b[0m     \u001b[39mraise\u001b[39;00m Error(\u001b[39m'\u001b[39m\u001b[39msampling rate not specified\u001b[39m\u001b[39m'\u001b[39m)\n\u001b[0;32m--> 467\u001b[0m \u001b[39mself\u001b[39;49m\u001b[39m.\u001b[39;49m_write_header(datasize)\n",
      "File \u001b[0;32m~/anaconda3/envs/ada/lib/python3.9/wave.py:479\u001b[0m, in \u001b[0;36mWave_write._write_header\u001b[0;34m(self, initlength)\u001b[0m\n\u001b[1;32m    477\u001b[0m \u001b[39mexcept\u001b[39;00m (\u001b[39mAttributeError\u001b[39;00m, \u001b[39mOSError\u001b[39;00m):\n\u001b[1;32m    478\u001b[0m     \u001b[39mself\u001b[39m\u001b[39m.\u001b[39m_form_length_pos \u001b[39m=\u001b[39m \u001b[39mNone\u001b[39;00m\n\u001b[0;32m--> 479\u001b[0m \u001b[39mself\u001b[39m\u001b[39m.\u001b[39m_file\u001b[39m.\u001b[39mwrite(struct\u001b[39m.\u001b[39;49mpack(\u001b[39m'\u001b[39;49m\u001b[39m<L4s4sLHHLLHH4s\u001b[39;49m\u001b[39m'\u001b[39;49m,\n\u001b[1;32m    480\u001b[0m     \u001b[39m36\u001b[39;49m \u001b[39m+\u001b[39;49m \u001b[39mself\u001b[39;49m\u001b[39m.\u001b[39;49m_datalength, \u001b[39mb\u001b[39;49m\u001b[39m'\u001b[39;49m\u001b[39mWAVE\u001b[39;49m\u001b[39m'\u001b[39;49m, \u001b[39mb\u001b[39;49m\u001b[39m'\u001b[39;49m\u001b[39mfmt \u001b[39;49m\u001b[39m'\u001b[39;49m, \u001b[39m16\u001b[39;49m,\n\u001b[1;32m    481\u001b[0m     WAVE_FORMAT_PCM, \u001b[39mself\u001b[39;49m\u001b[39m.\u001b[39;49m_nchannels, \u001b[39mself\u001b[39;49m\u001b[39m.\u001b[39;49m_framerate,\n\u001b[1;32m    482\u001b[0m     \u001b[39mself\u001b[39;49m\u001b[39m.\u001b[39;49m_nchannels \u001b[39m*\u001b[39;49m \u001b[39mself\u001b[39;49m\u001b[39m.\u001b[39;49m_framerate \u001b[39m*\u001b[39;49m \u001b[39mself\u001b[39;49m\u001b[39m.\u001b[39;49m_sampwidth,\n\u001b[1;32m    483\u001b[0m     \u001b[39mself\u001b[39;49m\u001b[39m.\u001b[39;49m_nchannels \u001b[39m*\u001b[39;49m \u001b[39mself\u001b[39;49m\u001b[39m.\u001b[39;49m_sampwidth,\n\u001b[1;32m    484\u001b[0m     \u001b[39mself\u001b[39;49m\u001b[39m.\u001b[39;49m_sampwidth \u001b[39m*\u001b[39;49m \u001b[39m8\u001b[39;49m, \u001b[39mb\u001b[39;49m\u001b[39m'\u001b[39;49m\u001b[39mdata\u001b[39;49m\u001b[39m'\u001b[39;49m))\n\u001b[1;32m    485\u001b[0m \u001b[39mif\u001b[39;00m \u001b[39mself\u001b[39m\u001b[39m.\u001b[39m_form_length_pos \u001b[39mis\u001b[39;00m \u001b[39mnot\u001b[39;00m \u001b[39mNone\u001b[39;00m:\n\u001b[1;32m    486\u001b[0m     \u001b[39mself\u001b[39m\u001b[39m.\u001b[39m_data_length_pos \u001b[39m=\u001b[39m \u001b[39mself\u001b[39m\u001b[39m.\u001b[39m_file\u001b[39m.\u001b[39mtell()\n",
      "\u001b[0;31merror\u001b[0m: ushort format requires 0 <= number <= (32767 *2 +1)"
     ]
    }
   ],
   "source": [
    "from scipy.io import wavfile\n",
    "from IPython.lib.display import Audio\n",
    "import numpy as np\n",
    "\n",
    "# import the speech from a wav file\n",
    "r, speech = wavfile.read('LRO.wav')\n",
    "_, rir = wavfile.read('LRO.wav')\n",
    "\n",
    "# Normalize the speech array\n",
    "normalized_speech = (speech / np.max(np.abs(speech)) * 32767).astype(np.uint16)\n",
    "\n",
    "# Add the audio widget\n",
    "print('Speech')\n",
    "display(Audio(data=normalized_speech, rate=r))\n",
    "print('Room Impulse Response')\n",
    "display(Audio(data=rir[:, 0], rate=r))\n",
    "\n"
   ]
  },
  {
   "cell_type": "markdown",
   "metadata": {},
   "source": [
    "we show the notation of the song without notes, just figures and next to the image they can hit play to reproduce the song\n",
    "(Visual) -> figure with standard notation + (Audio) -> just audio of the song"
   ]
  },
  {
   "cell_type": "markdown",
   "metadata": {},
   "source": [
    "### Auf uns - Bourani"
   ]
  },
  {
   "cell_type": "markdown",
   "metadata": {},
   "source": []
  },
  {
   "cell_type": "markdown",
   "metadata": {},
   "source": [
    "### Thunder - AC/DC"
   ]
  },
  {
   "cell_type": "markdown",
   "metadata": {},
   "source": []
  },
  {
   "cell_type": "markdown",
   "metadata": {},
   "source": [
    "<hr />"
   ]
  },
  {
   "cell_type": "markdown",
   "metadata": {},
   "source": [
    "Teaching Links:\n",
    "https://notebooks.gesis.org/binder/jupyter/user/theboilingpoint-cation-fall2023-zuo00d42/doc/tree/jupyterTutorial.ipynb \n",
    "https://docs.moodle.org/402/en/Interactive_Content_-_H5P_activity \n",
    "https://www.epfl.ch/education/educational-initiatives/jupyter-notebooks-for-education/teaching-and-learning-with-jupyter-notebooks/\n",
    "https://www.epfl.ch/education/educational-initiatives/jupyter-notebooks-for-education/teaching-and-learning-with-jupyter-notebooks/online-interactive-textbooks-with-jupyter-notebooks/ "
   ]
  },
  {
   "cell_type": "markdown",
   "metadata": {},
   "source": [
    "(examples on how to get some resources)"
   ]
  },
  {
   "cell_type": "markdown",
   "metadata": {},
   "source": [
    "### video"
   ]
  },
  {
   "cell_type": "code",
   "execution_count": null,
   "metadata": {},
   "outputs": [],
   "source": [
    "from IPython.display import YouTubeVideo\n",
    "from datetime import timedelta\n",
    "\n",
    "# It is possible to start the video at a specific time\n",
    "start=int(timedelta(hours=0, minutes=0, seconds=0).total_seconds())\n",
    "\n",
    "YouTubeVideo(\"OJy2h9mgiX8\", start=start, autoplay=0, theme=\"light\", color=\"red\")"
   ]
  },
  {
   "cell_type": "code",
   "execution_count": null,
   "metadata": {},
   "outputs": [],
   "source": [
    "from IPython.display import VimeoVideo\n",
    "\n",
    "VimeoVideo(\"12891305\")"
   ]
  },
  {
   "cell_type": "markdown",
   "metadata": {},
   "source": [
    "### website"
   ]
  },
  {
   "cell_type": "code",
   "execution_count": null,
   "metadata": {},
   "outputs": [],
   "source": [
    "from IPython.display import IFrame\n",
    "\n",
    "IFrame('https://dlab.epfl.ch/teaching/fall2019/cs401/', width=800, height=600)"
   ]
  },
  {
   "cell_type": "markdown",
   "metadata": {},
   "source": [
    "### audio"
   ]
  },
  {
   "cell_type": "code",
   "execution_count": null,
   "metadata": {},
   "outputs": [],
   "source": [
    "from scipy.io import loadmat, wavfile\n",
    "from IPython.lib.display import Audio\n",
    "\n",
    "# import the speech from a wav file\n",
    "r,speech = wavfile.read('Data/german_speech_44100.wav')\n",
    "_,rir = wavfile.read('Data/RIRs.wav')\n",
    "\n",
    "# Add the audio widget\n",
    "print('Speech')\n",
    "display(Audio(data=speech, rate=r))\n",
    "print('Room Impulse Response')\n",
    "display(Audio(data=rir[:,0], rate=r))"
   ]
  },
  {
   "cell_type": "markdown",
   "metadata": {},
   "source": [
    "### image"
   ]
  },
  {
   "cell_type": "code",
   "execution_count": null,
   "metadata": {},
   "outputs": [],
   "source": [
    "from IPython.display import Image\n",
    "# Photos credit: https://commons.wikimedia.org/wiki/File:Rolex_Learning_center.jpg\n",
    "Image('./Data/rlc.jpg', width=800,height=600)"
   ]
  },
  {
   "cell_type": "code",
   "execution_count": 23,
   "metadata": {},
   "outputs": [
    {
     "data": {
      "text/html": [
       "\n",
       "<div style=\"display: flex;\">\n",
       "  <div style=\"flex: 20%; margin-right: 10px; margin-left: 70px;\">\n",
       "    <img src=\"HeartPulseAnimation.gif\" alt=\"Heart Pulse Animation\" style=\"width:80%\">\n",
       "  </div>\n",
       "  <div style=\"flex: 20%; margin-left: 10px;\">\n",
       "    <img src=\"Walk.gif\" alt=\"Walk Animation\" style=\"width:80%\">\n",
       "  </div>\n",
       "</div>\n"
      ],
      "text/plain": [
       "<IPython.core.display.HTML object>"
      ]
     },
     "metadata": {},
     "output_type": "display_data"
    }
   ],
   "source": [
    "from IPython.display import HTML, display\n",
    "\n",
    "html_content = \"\"\"\n",
    "<div style=\"display: flex;\">\n",
    "  <div style=\"flex: 20%; margin-right: 10px; margin-left: 70px;\">\n",
    "    <img src=\"HeartPulseAnimation.gif\" alt=\"Heart Pulse Animation\" style=\"width:80%\">\n",
    "  </div>\n",
    "  <div style=\"flex: 20%; margin-left: 10px;\">\n",
    "    <img src=\"Walk.gif\" alt=\"Walk Animation\" style=\"width:80%\">\n",
    "  </div>\n",
    "</div>\n",
    "\"\"\"\n",
    "\n",
    "display(HTML(html_content))\n"
   ]
  },
  {
   "cell_type": "code",
   "execution_count": null,
   "metadata": {},
   "outputs": [],
   "source": [
    "\n"
   ]
  },
  {
   "cell_type": "markdown",
   "metadata": {},
   "source": [
    "<video width=\"320\" height=\"240\" controls>\n",
    "  <source src=\"heart_beating.mp4\" type=\"video/mp4\">\n",
    "  Your browser does not support the video tag.\n",
    "</video>\n"
   ]
  },
  {
   "cell_type": "code",
   "execution_count": null,
   "metadata": {},
   "outputs": [],
   "source": [
    "with open('Walk.gif','rb') as file:\n",
    "    display(Image(file.read(), format='gif'))"
   ]
  },
  {
   "cell_type": "code",
   "execution_count": null,
   "metadata": {},
   "outputs": [],
   "source": [
    "from IPython.display import display, Image\n",
    "\n",
    "with open('HeartPulseAnimation.gif','rb') as file:\n",
    "    display(Image(file.read(), format='gif'))"
   ]
  }
 ],
 "metadata": {
  "kernelspec": {
   "display_name": "ada",
   "language": "python",
   "name": "python3"
  },
  "language_info": {
   "codemirror_mode": {
    "name": "ipython",
    "version": 3
   },
   "file_extension": ".py",
   "mimetype": "text/x-python",
   "name": "python",
   "nbconvert_exporter": "python",
   "pygments_lexer": "ipython3",
   "version": "3.9.18"
  }
 },
 "nbformat": 4,
 "nbformat_minor": 2
}

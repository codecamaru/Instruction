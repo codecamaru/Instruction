{
 "cells": [
  {
   "cell_type": "markdown",
   "metadata": {},
   "source": [
    "# ✨🎶 Rythm and Musical Notation ✨🎶"
   ]
  },
  {
   "cell_type": "markdown",
   "metadata": {},
   "source": [
    "<hr />"
   ]
  },
  {
   "cell_type": "markdown",
   "metadata": {},
   "source": [
    "##### Welcome to our lesson! #####\n",
    "\n",
    "##### Today you will learn the basic knowledge about rhythm and musical notation. #####\n",
    "\n",
    "##### Through this notebook, we will gradually teach you the most important concepts. #####\n",
    "##### We will guide you step by step and give you the opportunity to interact freely with the elements we provide. #####\n",
    "\n",
    "##### Let's start learning! #####"
   ]
  },
  {
   "cell_type": "markdown",
   "metadata": {},
   "source": [
    "<hr />"
   ]
  },
  {
   "cell_type": "markdown",
   "metadata": {},
   "source": [
    "### The Pulse"
   ]
  },
  {
   "cell_type": "markdown",
   "metadata": {},
   "source": [
    "In order to make rhythm work, musicians need a common and constant reference. \n",
    "\n",
    "Imagine you want to walk with someone in a parade and you both need to go at the same speed and move your legs at the same time so that it looks synchronised. You would need to reach a consensus with your partner to do it at the same time.\n",
    "\n",
    "If you both could listen to one's heart beat, you could both walk at each pulsation. This would define your path. \n",
    "\n",
    "Same thing happens with music! We need to reach a consensus about the pulse. "
   ]
  },
  {
   "cell_type": "markdown",
   "metadata": {},
   "source": [
    "<div style=\"display: flex;\">\n",
    "  <div style=\"flex: 20%; margin-left: 60px;\">\n",
    "    <img src=\"Data/HeartPulseAnimation.gif\" alt=\"Heart Pulse Animation\" style=\"width:45%\">\n",
    "    <img src=\"Data/Walk.gif\" alt=\"Walk Animation\" style=\"width:45%; margin-left: 60px;\">\n",
    "  </div>\n",
    "</div>"
   ]
  },
  {
   "cell_type": "code",
   "execution_count": null,
   "metadata": {},
   "outputs": [],
   "source": [
    "# me falta poner ruido de pulso"
   ]
  },
  {
   "cell_type": "markdown",
   "metadata": {},
   "source": [
    "### The Beat"
   ]
  },
  {
   "cell_type": "markdown",
   "metadata": {},
   "source": [
    "Now, imagine that there was a standardized measure of pulse. (Hint: there is one!)\n",
    "\n",
    "In music, we stablish a number N to say that in one minute there will be N beats (or number of pulsations).\n",
    "\n",
    "A metronome is a device that produces sound on each beat at a regular interval. Feel free to try this one and change the speed! (or number of Beats Per Minute)\n"
   ]
  },
  {
   "cell_type": "markdown",
   "metadata": {},
   "source": [
    "<iframe src=\"https://guitarapp.com/metronome.html?embed=true&tempo=120&timeSignature=2&pattern=1&theme=light\" title=\"Online Metronome\" style=\"width: 360px; height:520px; margin-left:30px; border-style: none; border-radius: 4px;\"> </iframe>"
   ]
  },
  {
   "cell_type": "markdown",
   "metadata": {},
   "source": [
    "<hr />"
   ]
  },
  {
   "cell_type": "markdown",
   "metadata": {},
   "source": [
    "## Figures"
   ]
  },
  {
   "cell_type": "markdown",
   "metadata": {},
   "source": [
    "We use the beat as a basic unit of time. \n",
    "\n",
    "We can think of this unit as a number: 1. If we subdivide it, and we can do it in many ways, we could then combine these subdivisions to complete the whole unit. \n",
    "\n",
    "This is exactly what we do in music to meassure figures.\n",
    "\n",
    "Figures are the representation of these combinations of subdivisions. \n",
    "\n",
    "Here are some examples:"
   ]
  },
  {
   "cell_type": "markdown",
   "metadata": {},
   "source": [
    "<img src=\"Data/ex2.png\" alt=\"Image Description\" width=\"300\" height=\"200\" style=\"margin-left: 30px; margin-right: 20px; margin-bottom: 55px;\">"
   ]
  },
  {
   "cell_type": "markdown",
   "metadata": {},
   "source": [
    "The image on the right is the mathematical equivalence of the music notation on the left:"
   ]
  },
  {
   "cell_type": "markdown",
   "metadata": {},
   "source": [
    "<img src=\"Data/ex3.png\" alt=\"Image Description\" width=\"200\" height=\"300\" style=\"margin-left: 30px; margin-right: 20px;\">\n",
    "<img src=\"Data/ex4.png\" alt=\"Image Description\" width=\"200\" height=\"300\">"
   ]
  },
  {
   "cell_type": "markdown",
   "metadata": {},
   "source": [
    "This is a whole and its sound: "
   ]
  },
  {
   "cell_type": "markdown",
   "metadata": {},
   "source": [
    "<img src=\"Data/whole.jpeg\" alt=\"Image Description\" width=\"200\" height=\"50\" style=\"margin-left: 30px; margin-right: 20px; margin-bottom: 55px;\">"
   ]
  },
  {
   "cell_type": "markdown",
   "metadata": {},
   "source": [
    "This is a half and its sound: "
   ]
  },
  {
   "cell_type": "markdown",
   "metadata": {},
   "source": [
    "<img src=\"Data/half.jpeg\" alt=\"Image Description\" width=\"230\" height=\"50\" style=\"margin-left: 30px; margin-right: 20px; margin-bottom: 55px;\">"
   ]
  },
  {
   "cell_type": "markdown",
   "metadata": {},
   "source": [
    "This is a quarter and its sound: "
   ]
  },
  {
   "cell_type": "markdown",
   "metadata": {},
   "source": [
    "<img src=\"Data/quarter.jpeg\" alt=\"Image Description\" width=\"260\" height=\"50\" style=\"margin-left: 30px; margin-right: 20px; margin-bottom: 55px;\">"
   ]
  },
  {
   "cell_type": "markdown",
   "metadata": {},
   "source": [
    "This is an eighth and its sound: "
   ]
  },
  {
   "cell_type": "markdown",
   "metadata": {},
   "source": [
    "<img src=\"Data/eighth.jpeg\" alt=\"Image Description\" width=\"300\" height=\"50\" style=\"margin-left: 30px; margin-right: 20px; margin-bottom: 55px;\">"
   ]
  },
  {
   "cell_type": "markdown",
   "metadata": {},
   "source": [
    "This is a sixteenth and its sound: "
   ]
  },
  {
   "cell_type": "markdown",
   "metadata": {},
   "source": [
    "<img src=\"Data/sixteenth.jpeg\" alt=\"Image Description\" width=\"350\" height=\"50\" style=\"margin-left: 30px; margin-right: 20px; margin-bottom: 55px;\">"
   ]
  },
  {
   "cell_type": "code",
   "execution_count": null,
   "metadata": {},
   "outputs": [],
   "source": [
    "# tengo que poner sonido de cada figura "
   ]
  },
  {
   "cell_type": "markdown",
   "metadata": {},
   "source": [
    "This way, the equivalences are as follows:"
   ]
  },
  {
   "cell_type": "markdown",
   "metadata": {},
   "source": [
    "<img src=\"Data/ex5.png\" alt=\"Image Description\" width=\"300\" height=\"300\" style=\"margin-left: 30px; margin-right: 20px;\">"
   ]
  },
  {
   "cell_type": "markdown",
   "metadata": {},
   "source": [
    "There are triplets, quintuplet, sextuplets, and septuples as well. They are the result of subdividing a quarter into 3, 5, 6, and 7 subparts, respectively."
   ]
  },
  {
   "cell_type": "markdown",
   "metadata": {},
   "source": [
    "<img src=\"Data/ex7.png\" alt=\"Image Description\" width=\"300\" height=\"550\" style=\"margin-left: 30px; margin-right: 20px;\">"
   ]
  },
  {
   "cell_type": "markdown",
   "metadata": {},
   "source": [
    "Each figure has its equivalent rest, which is a figure that produces no sound."
   ]
  },
  {
   "cell_type": "markdown",
   "metadata": {},
   "source": [
    "<img src=\"Data/ex8.jpeg\" alt=\"Image Description\" width=\"500\" height=\"500\" style=\"margin-left: 30px; margin-right: 20px;\">"
   ]
  },
  {
   "cell_type": "markdown",
   "metadata": {},
   "source": [
    "If you see a dot next to a figure, it means that figure is worth its duration without the dot, plus half of its duration without the dot. \n",
    "\n",
    "Here is an ilustrative example:"
   ]
  },
  {
   "cell_type": "markdown",
   "metadata": {},
   "source": [
    "<img src=\"Data/ex9.png\" alt=\"Image Description\" width=\"300\" height=\"300\" style=\"margin-left: 30px; margin-right: 20px;\">\n",
    "<img src=\"Data/ex10.png\" alt=\"Image Description\" width=\"250\" height=\"300\">"
   ]
  },
  {
   "cell_type": "markdown",
   "metadata": {},
   "source": [
    "credits: https://math.unm.edu/~james/musicNotes.pdf"
   ]
  },
  {
   "cell_type": "markdown",
   "metadata": {},
   "source": [
    "<hr />"
   ]
  },
  {
   "cell_type": "markdown",
   "metadata": {},
   "source": [
    "### The Tempo"
   ]
  },
  {
   "cell_type": "markdown",
   "metadata": {},
   "source": [
    "Now, we can assign a figure to the number we talked about at the 'The Beat' section, which will determine the speed of the piece we want to play."
   ]
  },
  {
   "cell_type": "markdown",
   "metadata": {},
   "source": [
    "<img src=\"Data/tempo.png\" alt=\"Image Description\" width=\"100\" height=\"100\" style=\"margin-left: 30px; margin-right: 50px; margin-bottom: 140px;\">\n",
    "<img src=\"Data/tempo2.webp\" alt=\"Image Description\" width=\"500\" height=\"400\" style=\"margin-left: 50px; margin-right: 50px;\">\n",
    "<img src=\"Data/tempo-120.jpeg\" alt=\"Image Description\" width=\"500\" height=\"400\" style=\"margin-left: 30px; margin-right: 20px;\">"
   ]
  },
  {
   "cell_type": "markdown",
   "metadata": {},
   "source": [
    "<hr />"
   ]
  },
  {
   "cell_type": "markdown",
   "metadata": {},
   "source": [
    "## Time signature"
   ]
  },
  {
   "cell_type": "markdown",
   "metadata": {},
   "source": [
    "We represent the time signature with two numbers. The lower number indicates the time unit, the reference. The upper number indicates the number of beats we will have on each bar of this unit. \n",
    "\n",
    "You can see from the mathematical fractions in 'Figures' section, that the denominator matches the definition we use for the lower number, which is the number of smaller figures that fit in a whole figure. \n",
    "\n",
    "For instance: an eighth would be number 8 because you can fit 8 eighths in a whole. Then, the time signature 12/8 would mean that in one bar you can fit 12 eights. "
   ]
  },
  {
   "cell_type": "markdown",
   "metadata": {},
   "source": [
    "#### Weight"
   ]
  },
  {
   "cell_type": "markdown",
   "metadata": {},
   "source": [
    "In order to allow musical flow and rhythm articulation, we try to give more importance (slightly more emphasis) to the first beat of the bar. "
   ]
  },
  {
   "cell_type": "markdown",
   "metadata": {},
   "source": [
    "<hr />"
   ]
  },
  {
   "cell_type": "markdown",
   "metadata": {},
   "source": [
    "To conclude this Instruction session, you will now hear fragments of songs and read the figures on the score at the same time. \n",
    "(notice that only the beginning of the scores is given)"
   ]
  },
  {
   "cell_type": "markdown",
   "metadata": {},
   "source": [
    "### Love Runs Out - One Republic"
   ]
  },
  {
   "cell_type": "code",
   "execution_count": null,
   "metadata": {},
   "outputs": [],
   "source": [
    "# el audio no va"
   ]
  },
  {
   "cell_type": "markdown",
   "metadata": {},
   "source": [
    "<img src=\"Data/loverunsout.svg\" alt=\"Image Description\" width=\"1000\" height=\"1300\" style=\"margin-left: 30px; margin-right: 20px;\">"
   ]
  },
  {
   "cell_type": "markdown",
   "metadata": {},
   "source": [
    "<html lang=\"en\">\n",
    "<head>\n",
    "    <meta charset=\"UTF-8\">\n",
    "    <meta http-equiv=\"X-UA-Compatible\" content=\"IE=edge\">\n",
    "    <meta name=\"viewport\" content=\"width=device-width, initial-scale=1.0\">\n",
    "    <title>YouTube Video</title>\n",
    "</head>\n",
    "<body>\n",
    "\n",
    "<iframe width=\"560\" height=\"315\" src=\"https://www.youtube.com/watch?v=m-j-n-XJ-Tg\" frameborder=\"0\" allowfullscreen></iframe>\n",
    "\n",
    "</body>\n",
    "</html>"
   ]
  },
  {
   "cell_type": "code",
   "execution_count": 3,
   "metadata": {},
   "outputs": [
    {
     "data": {
      "text/html": [
       "\n",
       "        <iframe\n",
       "            width=\"400\"\n",
       "            height=\"300\"\n",
       "            src=\"https://www.youtube.com/embed/https://www.youtube.com/watch?v=m-j-n-XJ-Tg?start=0&autoplay=0&theme=light&color=red\"\n",
       "            frameborder=\"0\"\n",
       "            allowfullscreen\n",
       "            \n",
       "        ></iframe>\n",
       "        "
      ],
      "text/plain": [
       "<IPython.lib.display.YouTubeVideo at 0x1086a2e80>"
      ]
     },
     "execution_count": 3,
     "metadata": {},
     "output_type": "execute_result"
    }
   ],
   "source": [
    "from IPython.display import YouTubeVideo\n",
    "from datetime import timedelta\n",
    "\n",
    "# It is possible to start the video at a specific time\n",
    "start=int(timedelta(hours=0, minutes=0, seconds=0).total_seconds())\n",
    "\n",
    "YouTubeVideo(\"https://www.youtube.com/watch?v=m-j-n-XJ-Tg\", start=start, autoplay=0, theme=\"light\", color=\"red\")"
   ]
  },
  {
   "cell_type": "markdown",
   "metadata": {},
   "source": [
    "### Auf uns - Bourani"
   ]
  },
  {
   "cell_type": "markdown",
   "metadata": {},
   "source": [
    "<img src=\"Data/auf_uns.svg\" alt=\"Image Description\" width=\"1000\" height=\"1300\" style=\"margin-left: 30px; margin-right: 20px;\">\n"
   ]
  },
  {
   "cell_type": "markdown",
   "metadata": {},
   "source": [
    "<html lang=\"en\">\n",
    "<head>\n",
    "    <meta charset=\"UTF-8\">\n",
    "    <meta http-equiv=\"X-UA-Compatible\" content=\"IE=edge\">\n",
    "    <meta name=\"viewport\" content=\"width=device-width, initial-scale=1.0\">\n",
    "    <title>YouTube Video</title>\n",
    "</head>\n",
    "<body>\n",
    "\n",
    "<iframe width=\"560\" height=\"315\" src=\"https://www.youtube.com/embed/k9EYjn5f_nE\" frameborder=\"0\" allowfullscreen></iframe>\n",
    "\n",
    "</body>\n",
    "</html>\n",
    "</html>"
   ]
  },
  {
   "cell_type": "code",
   "execution_count": 2,
   "metadata": {},
   "outputs": [
    {
     "data": {
      "text/html": [
       "\n",
       "        <iframe\n",
       "            width=\"400\"\n",
       "            height=\"300\"\n",
       "            src=\"https://www.youtube.com/embed/watch?v=k9EYjn5f_nE?start=0&autoplay=0&theme=light&color=red\"\n",
       "            frameborder=\"0\"\n",
       "            allowfullscreen\n",
       "            \n",
       "        ></iframe>\n",
       "        "
      ],
      "text/plain": [
       "<IPython.lib.display.YouTubeVideo at 0x107541730>"
      ]
     },
     "execution_count": 2,
     "metadata": {},
     "output_type": "execute_result"
    }
   ],
   "source": [
    "from IPython.display import YouTubeVideo\n",
    "from datetime import timedelta\n",
    "\n",
    "# It is possible to start the video at a specific time\n",
    "start=int(timedelta(hours=0, minutes=0, seconds=0).total_seconds())\n",
    "\n",
    "YouTubeVideo(\"watch?v=k9EYjn5f_nE\", start=start, autoplay=0, theme=\"light\", color=\"red\")"
   ]
  },
  {
   "cell_type": "markdown",
   "metadata": {},
   "source": [
    "### Thunder - AC/DC"
   ]
  },
  {
   "cell_type": "markdown",
   "metadata": {},
   "source": [
    "<img src=\"Data/thunderstuck.png\" alt=\"Image Description\" width=\"1000\" height=\"1300\" style=\"margin-left: 30px; margin-right: 20px;\">\n",
    "\n",
    "<html lang=\"en\">\n",
    "<head>\n",
    "    <meta charset=\"UTF-8\">\n",
    "    <meta http-equiv=\"X-UA-Compatible\" content=\"IE=edge\">\n",
    "    <meta name=\"viewport\" content=\"width=device-width, initial-scale=1.0\">\n",
    "    <title>YouTube Video</title>\n",
    "</head>\n",
    "<body>\n",
    "\n",
    "<iframe width=\"560\" height=\"315\" src=\"https://www.youtube.com/watch?v=v2AC41dglnM\" frameborder=\"0\" allowfullscreen></iframe>\n",
    "\n",
    "</body>\n",
    "</html>"
   ]
  },
  {
   "cell_type": "markdown",
   "metadata": {},
   "source": [
    "<hr />"
   ]
  },
  {
   "cell_type": "code",
   "execution_count": null,
   "metadata": {},
   "outputs": [],
   "source": [
    "# problemas\n",
    "''' \n",
    "dependencias -> yamel file\n",
    "el audio no me va ni pa atrás\n",
    "los márgenes dependen de la dimensión de la pantalla\n",
    "el binder se bloquea o no se actualiza cuando cambio el git y no sé si para acceder a él solo con el link sirve\n",
    "ver qué hago con las imágenes de The Tempo\n",
    "'''"
   ]
  }
 ],
 "metadata": {
  "kernelspec": {
   "display_name": "ada",
   "language": "python",
   "name": "python3"
  },
  "language_info": {
   "codemirror_mode": {
    "name": "ipython",
    "version": 3
   },
   "file_extension": ".py",
   "mimetype": "text/x-python",
   "name": "python",
   "nbconvert_exporter": "python",
   "pygments_lexer": "ipython3",
   "version": "3.9.18"
  }
 },
 "nbformat": 4,
 "nbformat_minor": 2
}
